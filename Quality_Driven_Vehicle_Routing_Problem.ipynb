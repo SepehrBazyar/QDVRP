{
  "cells": [
    {
      "cell_type": "markdown",
      "metadata": {
        "id": "view-in-github",
        "colab_type": "text"
      },
      "source": [
        "<a href=\"https://colab.research.google.com/github/SepehrBazyar/QDVRP/blob/master/Quality_Driven_Vehicle_Routing_Problem.ipynb\" target=\"_parent\"><img src=\"https://colab.research.google.com/assets/colab-badge.svg\" alt=\"Open In Colab\"/></a>"
      ]
    },
    {
      "cell_type": "markdown",
      "metadata": {
        "id": "fH8v3hNjLCdq"
      },
      "source": [
        "**Install Dependencies**"
      ]
    },
    {
      "cell_type": "code",
      "execution_count": 1,
      "metadata": {
        "id": "y8fgBJHNkVBa"
      },
      "outputs": [],
      "source": [
        "!apt-get install -y -qq glpk-utils coinor-cbc"
      ]
    },
    {
      "cell_type": "code",
      "execution_count": 2,
      "metadata": {
        "colab": {
          "base_uri": "https://localhost:8080/"
        },
        "id": "O9XwI4kHNJAo",
        "outputId": "6ebc412e-8e3d-4699-be8c-e4704ba36e23"
      },
      "outputs": [
        {
          "output_type": "stream",
          "name": "stdout",
          "text": [
            "Requirement already satisfied: gurobipy in /usr/local/lib/python3.11/dist-packages (12.0.1)\n",
            "Requirement already satisfied: pyomo in /usr/local/lib/python3.11/dist-packages (6.8.2)\n",
            "Requirement already satisfied: amplpy in /usr/local/lib/python3.11/dist-packages (0.14.0)\n",
            "Requirement already satisfied: matplotlib in /usr/local/lib/python3.11/dist-packages (3.10.0)\n",
            "Requirement already satisfied: jax in /usr/local/lib/python3.11/dist-packages (0.4.33)\n",
            "Requirement already satisfied: ply in /usr/local/lib/python3.11/dist-packages (from pyomo) (3.11)\n",
            "Requirement already satisfied: ampltools>=0.7.5 in /usr/local/lib/python3.11/dist-packages (from amplpy) (0.7.5)\n",
            "Requirement already satisfied: contourpy>=1.0.1 in /usr/local/lib/python3.11/dist-packages (from matplotlib) (1.3.1)\n",
            "Requirement already satisfied: cycler>=0.10 in /usr/local/lib/python3.11/dist-packages (from matplotlib) (0.12.1)\n",
            "Requirement already satisfied: fonttools>=4.22.0 in /usr/local/lib/python3.11/dist-packages (from matplotlib) (4.55.8)\n",
            "Requirement already satisfied: kiwisolver>=1.3.1 in /usr/local/lib/python3.11/dist-packages (from matplotlib) (1.4.8)\n",
            "Requirement already satisfied: numpy>=1.23 in /usr/local/lib/python3.11/dist-packages (from matplotlib) (1.26.4)\n",
            "Requirement already satisfied: packaging>=20.0 in /usr/local/lib/python3.11/dist-packages (from matplotlib) (24.2)\n",
            "Requirement already satisfied: pillow>=8 in /usr/local/lib/python3.11/dist-packages (from matplotlib) (11.1.0)\n",
            "Requirement already satisfied: pyparsing>=2.3.1 in /usr/local/lib/python3.11/dist-packages (from matplotlib) (3.2.1)\n",
            "Requirement already satisfied: python-dateutil>=2.7 in /usr/local/lib/python3.11/dist-packages (from matplotlib) (2.8.2)\n",
            "Requirement already satisfied: jaxlib<=0.4.33,>=0.4.33 in /usr/local/lib/python3.11/dist-packages (from jax) (0.4.33)\n",
            "Requirement already satisfied: ml-dtypes>=0.2.0 in /usr/local/lib/python3.11/dist-packages (from jax) (0.4.1)\n",
            "Requirement already satisfied: opt-einsum in /usr/local/lib/python3.11/dist-packages (from jax) (3.4.0)\n",
            "Requirement already satisfied: scipy>=1.10 in /usr/local/lib/python3.11/dist-packages (from jax) (1.13.1)\n",
            "Requirement already satisfied: requests in /usr/local/lib/python3.11/dist-packages (from ampltools>=0.7.5->amplpy) (2.32.3)\n",
            "Requirement already satisfied: six>=1.5 in /usr/local/lib/python3.11/dist-packages (from python-dateutil>=2.7->matplotlib) (1.17.0)\n",
            "Requirement already satisfied: charset-normalizer<4,>=2 in /usr/local/lib/python3.11/dist-packages (from requests->ampltools>=0.7.5->amplpy) (3.4.1)\n",
            "Requirement already satisfied: idna<4,>=2.5 in /usr/local/lib/python3.11/dist-packages (from requests->ampltools>=0.7.5->amplpy) (3.10)\n",
            "Requirement already satisfied: urllib3<3,>=1.21.1 in /usr/local/lib/python3.11/dist-packages (from requests->ampltools>=0.7.5->amplpy) (2.3.0)\n",
            "Requirement already satisfied: certifi>=2017.4.17 in /usr/local/lib/python3.11/dist-packages (from requests->ampltools>=0.7.5->amplpy) (2025.1.31)\n"
          ]
        }
      ],
      "source": [
        "!pip install gurobipy pyomo amplpy matplotlib jax"
      ]
    },
    {
      "cell_type": "code",
      "source": [
        "!python3 -m amplpy.modules install coin highs scip gcg -q"
      ],
      "metadata": {
        "id": "8lgH9I1d1FeS"
      },
      "execution_count": 3,
      "outputs": []
    },
    {
      "cell_type": "markdown",
      "metadata": {
        "id": "ZtqG7kDYL07_"
      },
      "source": [
        "**Import Libraries**"
      ]
    },
    {
      "cell_type": "code",
      "execution_count": 4,
      "metadata": {
        "id": "dnEfgWIh1tSt"
      },
      "outputs": [],
      "source": [
        "import math\n",
        "import random\n",
        "from abc import ABC\n",
        "from dataclasses import dataclass, field\n",
        "\n",
        "import pyomo.environ as pyo\n",
        "import matplotlib.pyplot as plt\n",
        "import jax.scipy.stats as st\n",
        "from amplpy import modules"
      ]
    },
    {
      "cell_type": "markdown",
      "metadata": {
        "id": "bQJxRvXVL8sO"
      },
      "source": [
        "**Define Model**"
      ]
    },
    {
      "cell_type": "code",
      "execution_count": 5,
      "metadata": {
        "id": "QFd5JJCR4_Vk"
      },
      "outputs": [],
      "source": [
        "model = pyo.ConcreteModel()"
      ]
    },
    {
      "cell_type": "markdown",
      "metadata": {
        "id": "cb038jDLL_jU"
      },
      "source": [
        "**Parameters**"
      ]
    },
    {
      "cell_type": "code",
      "execution_count": 6,
      "metadata": {
        "id": "6hKD1Ka2syEs"
      },
      "outputs": [],
      "source": [
        "@dataclass(unsafe_hash=True)\n",
        "class Base(ABC):\n",
        "  id: int"
      ]
    },
    {
      "cell_type": "code",
      "execution_count": 7,
      "metadata": {
        "id": "80b9EIy-63Zw"
      },
      "outputs": [],
      "source": [
        "@dataclass(unsafe_hash=True)\n",
        "class Depot(Base):\n",
        "  pass"
      ]
    },
    {
      "cell_type": "code",
      "execution_count": 8,
      "metadata": {
        "id": "U779lN8qoX58"
      },
      "outputs": [],
      "source": [
        "@dataclass(unsafe_hash=True)\n",
        "class Product(Base):\n",
        "  beta: float\n",
        "  quality: float\n",
        "  temperature: int\n",
        "  price: float"
      ]
    },
    {
      "cell_type": "code",
      "execution_count": 9,
      "metadata": {
        "id": "3pPvy_agsIrD"
      },
      "outputs": [],
      "source": [
        "@dataclass(unsafe_hash=True)\n",
        "class Vehicle(Base):\n",
        "  capacity: int\n",
        "\n",
        "  # Right Hand Side\n",
        "  time_window_mu: float\n",
        "  time_window_sigma: float\n",
        "\n",
        "  # Stochastics\n",
        "  alpha_mu: float\n",
        "  alpha_sigma: float\n",
        "\n",
        "  salary_mu: float\n",
        "  salary_sigma: float\n",
        "\n",
        "  cost_mu: float = 1.0\n",
        "  cost_sigma: float = 1.0\n",
        "\n",
        "  speed_rate: float = 1.5\n",
        "  increase_rate: float = 0.005  # degrees per minute\n",
        "\n",
        "  confidence: float = 0.95\n",
        "\n",
        "  @property\n",
        "  def z_alpha(self):\n",
        "    return float(st.norm.ppf(self.confidence))"
      ]
    },
    {
      "cell_type": "code",
      "execution_count": 10,
      "metadata": {
        "id": "yFuG7UrFyo99"
      },
      "outputs": [],
      "source": [
        "@dataclass(unsafe_hash=True)\n",
        "class Customer(Base):\n",
        "  unload_rate: float = 0.5  # in minutes\n",
        "\n",
        "  total_demand: int = field(\n",
        "    init=False,\n",
        "    hash=False,\n",
        "    default=0,\n",
        "  )\n",
        "\n",
        "  @property\n",
        "  def service_time(self):\n",
        "    return self.unload_rate * self.total_demand"
      ]
    },
    {
      "cell_type": "code",
      "execution_count": 11,
      "metadata": {
        "id": "o4qS-PWV5ARE"
      },
      "outputs": [],
      "source": [
        "temperature = 25\n",
        "\n",
        "depot = Depot(id=0)\n",
        "customers = (\n",
        "  c1 := Customer(id=1),\n",
        "  c2 := Customer(id=2),\n",
        "  c3 := Customer(id=3),\n",
        "  c4 := Customer(id=4),\n",
        "  c5 := Customer(id=5),\n",
        "  c6 := Customer(id=6),\n",
        "  c7 := Customer(id=7),\n",
        ")\n",
        "nodes = depot, *customers\n",
        "\n",
        "products = (\n",
        "  p1 := Product(id=1, beta=0.1, quality=0.7, temperature=5, price=1.0),\n",
        "  p2 := Product(id=2, beta=0.3, quality=0.85, temperature=3, price=2.0),\n",
        ")\n",
        "\n",
        "vehicles = (\n",
        "  v1 := Vehicle(\n",
        "    id=1,\n",
        "    capacity=30,\n",
        "    salary_mu=1.5,\n",
        "    salary_sigma=0.1,\n",
        "    alpha_mu=4.0,\n",
        "    alpha_sigma=1.0,\n",
        "    time_window_mu=100.0,\n",
        "    time_window_sigma=1.0,\n",
        "  ),\n",
        "  v2 := Vehicle(\n",
        "    id=2,\n",
        "    capacity=25,\n",
        "    salary_mu=2.5,\n",
        "    salary_sigma=0.15,\n",
        "    alpha_mu=5.0,\n",
        "    alpha_sigma=0.5,\n",
        "    time_window_mu=150.0,\n",
        "    time_window_sigma=5.0,\n",
        "  ),\n",
        "  v3 := Vehicle(\n",
        "    id=3,\n",
        "    capacity=20,\n",
        "    salary_mu=1.8,\n",
        "    salary_sigma=0.12,\n",
        "    alpha_mu=2.0,\n",
        "    alpha_sigma=0.2,\n",
        "    time_window_mu=120.0,\n",
        "    time_window_sigma=8.0,\n",
        "  ),\n",
        ")\n",
        "\n",
        "demands = {\n",
        "  (p1, c1): 3, (p1, c2): 5, (p1, c3): 2, (p1, c4): 7, (p1, c5): 4, (p1, c6): 6, (p1, c7): 8,\n",
        "  (p2, c1): 2, (p2, c2): 3, (p2, c3): 1, (p2, c4): 2, (p2, c5): 4, (p2, c6): 2, (p2, c7): 3,\n",
        "}\n",
        "for (_, customer), demand in demands.items():\n",
        "  customer.total_demand += demand\n",
        "\n",
        "distances = {\n",
        "  (depot, c1): 10,\n",
        "  (depot, c2): 15,\n",
        "  (depot, c3): 20,\n",
        "  (depot, c4): 25,\n",
        "  (depot, c5): 30,\n",
        "  (depot, c6): 22,\n",
        "  (depot, c7): 27,\n",
        "  (c1, c2): 12, (c1, c3): 18, (c1, c4): 22, (c1, c5): 28, (c1, c6): 16, (c1, c7): 21,\n",
        "  (c2, c3): 14, (c2, c4): 20, (c2, c5): 24, (c2, c6): 18, (c2, c7): 26,\n",
        "  (c3, c4): 16, (c3, c5): 21, (c3, c6): 24, (c3, c7): 30,\n",
        "  (c4, c5): 12, (c4, c6): 15, (c4, c7): 19,\n",
        "  (c5, c6): 19, (c5, c7): 17,\n",
        "  (c6, c7): 14,\n",
        "}\n",
        "distances.update({(j, i): d for (i, j), d in distances.items()})\n",
        "\n",
        "count = len(products) * len(vehicles)"
      ]
    },
    {
      "cell_type": "markdown",
      "metadata": {
        "id": "u5t66RciP2r8"
      },
      "source": [
        "**Decision Varibales**"
      ]
    },
    {
      "cell_type": "code",
      "execution_count": 12,
      "metadata": {
        "id": "5Wbn7qp_5EK3"
      },
      "outputs": [],
      "source": [
        "model.x = pyo.Var(nodes, nodes, vehicles, domain=pyo.Binary)\n",
        "model.u = pyo.Var(customers, domain=pyo.NonNegativeReals)\n",
        "model.t = pyo.Var(vehicles, domain=pyo.Reals)"
      ]
    },
    {
      "cell_type": "code",
      "execution_count": 13,
      "metadata": {
        "id": "PpnzArE18XDg"
      },
      "outputs": [],
      "source": [
        "v = {(j, k): sum(model.x[i, j, k] for i in nodes if i != j) for j in customers for k in vehicles}\n",
        "q = {(p, k): sum(demands.get((p, j), 0) * v[j, k] for j in customers) for p in products for k in vehicles}\n",
        "t = {\n",
        "  k: (\n",
        "    sum(k.speed_rate * distances[i, j] * model.x[i, j, k] for i in nodes for j in nodes if i != j)\n",
        "    +\n",
        "    sum(j.service_time * v[j, k] for j in customers)\n",
        "  ) for k in vehicles\n",
        "}\n",
        "d = {k: sum(j.service_time * k.increase_rate * v[j, k] for j in customers) for k in vehicles}"
      ]
    },
    {
      "cell_type": "code",
      "execution_count": 14,
      "metadata": {
        "id": "EivBqghnSitp"
      },
      "outputs": [],
      "source": [
        "decay = {(p, k): p.beta * abs((model.t[k] + d[k]) - p.temperature) for p in products for k in vehicles}"
      ]
    },
    {
      "cell_type": "markdown",
      "metadata": {
        "id": "NDMTA_SiTKot"
      },
      "source": [
        "**Objective Function**\n",
        "\n",
        "Minimize the Total Distance Traveled & Costs\n",
        "\n",
        "Maximize the Total Quality of Products in Vehicles"
      ]
    },
    {
      "cell_type": "code",
      "execution_count": 15,
      "metadata": {
        "id": "UmS76z6rqXac"
      },
      "outputs": [],
      "source": [
        "delta = {k: abs(temperature - model.t[k]) for k in vehicles}"
      ]
    },
    {
      "cell_type": "code",
      "execution_count": 16,
      "metadata": {
        "id": "UuUn5Qq-5H1o"
      },
      "outputs": [],
      "source": [
        "def cost_objective_func(model):\n",
        "  e_distance = sum(\n",
        "    k.cost_mu * distances[i, j] * model.x[i, j, k]\n",
        "    for i in nodes for j in nodes for k in vehicles if i != j\n",
        "  )\n",
        "  var_distance = sum(\n",
        "    k.cost_sigma * (distances[i, j] * model.x[i, j, k]) ** 2\n",
        "    for i in nodes for j in nodes for k in vehicles if i != j\n",
        "  )\n",
        "  distance_cost = e_distance - pyo.sqrt(var_distance)\n",
        "\n",
        "  e_salary = sum(k.salary_mu * t[k] for k in vehicles)\n",
        "  var_salary = sum(k.salary_sigma * t[k] ** 2 for k in vehicles)\n",
        "  salary_cost = e_salary - pyo.sqrt(var_salary)\n",
        "\n",
        "  e_cooling = sum(k.alpha_mu * delta[k] for k in vehicles)\n",
        "  var_cooling = sum(k.alpha_sigma * delta[k] ** 2 for k in vehicles)\n",
        "  cooling_cost = e_cooling - pyo.sqrt(var_cooling)\n",
        "\n",
        "  return distance_cost + salary_cost + cooling_cost"
      ]
    },
    {
      "cell_type": "code",
      "execution_count": 17,
      "metadata": {
        "id": "Ou8MVsFGTmu-"
      },
      "outputs": [],
      "source": [
        "def decay_objective_func(model):\n",
        "  return sum(100 * decay[p, k] * p.price for p in products for k in vehicles)"
      ]
    },
    {
      "cell_type": "code",
      "execution_count": 18,
      "metadata": {
        "id": "v45XDg4uT61x"
      },
      "outputs": [],
      "source": [
        "def combined_objective_func(model, w1, w2):\n",
        "  total_cost = cost_objective_func(model)\n",
        "  average_decay = decay_objective_func(model)\n",
        "  return w1 * total_cost + w2 * average_decay"
      ]
    },
    {
      "cell_type": "code",
      "execution_count": 19,
      "metadata": {
        "id": "BTb7i5qMiZzF"
      },
      "outputs": [],
      "source": [
        "step = 4\n",
        "weights = [(w1 := i / 100, round(1 - w1, 2)) for i in range(80, 100, step)]"
      ]
    },
    {
      "cell_type": "markdown",
      "metadata": {
        "id": "n984RpptTpXo"
      },
      "source": [
        "**Constraints**"
      ]
    },
    {
      "cell_type": "markdown",
      "metadata": {
        "id": "o4W30crTUpxg"
      },
      "source": [
        "Each Customer Visited Exactly Once by Exactly One Vehicle"
      ]
    },
    {
      "cell_type": "code",
      "execution_count": 20,
      "metadata": {
        "id": "4z3jQWb25O1u"
      },
      "outputs": [],
      "source": [
        "def visit_once_rule(model, j: Customer):\n",
        "  has_demand = 1 if j.total_demand > 0 else 0\n",
        "  return sum(v[j, k] for k in vehicles) == has_demand"
      ]
    },
    {
      "cell_type": "code",
      "execution_count": 21,
      "metadata": {
        "id": "8t9L8JlaUzvo"
      },
      "outputs": [],
      "source": [
        "model.visit_once = pyo.Constraint(customers, rule=visit_once_rule)"
      ]
    },
    {
      "cell_type": "markdown",
      "metadata": {
        "id": "-TArCMnzVjwA"
      },
      "source": [
        "Flow Conservation\n",
        "\n",
        "If a Vehicle Enters a Node, It Must Leave It."
      ]
    },
    {
      "cell_type": "code",
      "execution_count": 22,
      "metadata": {
        "id": "OkN3_MZM5WjP"
      },
      "outputs": [],
      "source": [
        "def flow_conservation_rule(model, j: Customer | Depot, k: Vehicle):\n",
        "    come_in = sum(model.x[i, j, k] for i in nodes if i != j)\n",
        "    outside = sum(model.x[j, i, k] for i in nodes if i != j)\n",
        "    return come_in == outside"
      ]
    },
    {
      "cell_type": "code",
      "execution_count": 23,
      "metadata": {
        "id": "veka0BnGV-wW"
      },
      "outputs": [],
      "source": [
        "model.flow_conservation = pyo.Constraint(nodes, vehicles, rule=flow_conservation_rule)"
      ]
    },
    {
      "cell_type": "markdown",
      "metadata": {
        "id": "DhwDO3-OWXTX"
      },
      "source": [
        "Start & End at The Depot For Each Vehicle"
      ]
    },
    {
      "cell_type": "code",
      "execution_count": 24,
      "metadata": {
        "id": "cmR9LNeV5Zbk"
      },
      "outputs": [],
      "source": [
        "def start_depot_rule(model, k: Vehicle):\n",
        "    return sum(model.x[depot, i, k] for i in customers) <= 1\n",
        "\n",
        "\n",
        "def end_depot_rule(model, k: Vehicle):\n",
        "    return sum(model.x[i, depot, k] for i in customers) <= 1"
      ]
    },
    {
      "cell_type": "code",
      "execution_count": 25,
      "metadata": {
        "id": "4wOnfdSbWg-O"
      },
      "outputs": [],
      "source": [
        "model.start_depot = pyo.Constraint(vehicles, rule=start_depot_rule)\n",
        "model.end_depot = pyo.Constraint(vehicles, rule=end_depot_rule)"
      ]
    },
    {
      "cell_type": "markdown",
      "metadata": {
        "id": "umKfxNWKW9Ne"
      },
      "source": [
        "Vehicle Capacity Constraints"
      ]
    },
    {
      "cell_type": "code",
      "execution_count": 26,
      "metadata": {
        "id": "9t6Sao4h5dMY"
      },
      "outputs": [],
      "source": [
        "def capacity_rule(model, k: Vehicle):\n",
        "    return sum(q[p, k] for p in products) <= k.capacity"
      ]
    },
    {
      "cell_type": "code",
      "execution_count": 27,
      "metadata": {
        "id": "f5GUI4gDXIRm"
      },
      "outputs": [],
      "source": [
        "model.capacity = pyo.Constraint(vehicles, rule=capacity_rule)"
      ]
    },
    {
      "cell_type": "markdown",
      "metadata": {
        "id": "63llTCHTXgfP"
      },
      "source": [
        "Subtour Elimination\n",
        "\n",
        "Miller-Tucker-Zemlin Formula"
      ]
    },
    {
      "cell_type": "code",
      "execution_count": 28,
      "metadata": {
        "id": "co59ToMN5gTO"
      },
      "outputs": [],
      "source": [
        "def subtour_elimination_rule(model, i: Customer, j: Customer, k: Vehicle):\n",
        "    if i != j and i != depot and j != depot:\n",
        "        return model.u[i] - model.u[j] + len(customers) * model.x[i, j, k] <= len(customers) - 1\n",
        "\n",
        "    return pyo.Constraint.Skip"
      ]
    },
    {
      "cell_type": "code",
      "execution_count": 29,
      "metadata": {
        "id": "BvX27z1QYCGJ"
      },
      "outputs": [],
      "source": [
        "model.subtour_elimination = pyo.Constraint(customers, customers, vehicles, rule=subtour_elimination_rule)"
      ]
    },
    {
      "cell_type": "markdown",
      "metadata": {
        "id": "n3kBo0rdNNeE"
      },
      "source": [
        "Quality Maintaining"
      ]
    },
    {
      "cell_type": "code",
      "execution_count": 30,
      "metadata": {
        "id": "lJvhwKleNRgI"
      },
      "outputs": [],
      "source": [
        "def quality_maintaining_rule(model, p: Product, k: Vehicle):\n",
        "  try:\n",
        "    is_contained = q[p, k] / q[p, k]\n",
        "  except ZeroDivisionError:\n",
        "    is_contained = 0\n",
        "\n",
        "  return 1 - decay[p, k] * is_contained >= p.quality"
      ]
    },
    {
      "cell_type": "code",
      "execution_count": 31,
      "metadata": {
        "id": "B5Jf8-r6N-OH"
      },
      "outputs": [],
      "source": [
        "model.quality_maintaining = pyo.Constraint(products, vehicles, rule=quality_maintaining_rule)"
      ]
    },
    {
      "cell_type": "markdown",
      "metadata": {
        "id": "ENvVYtFXOObf"
      },
      "source": [
        "Time Window"
      ]
    },
    {
      "cell_type": "code",
      "execution_count": 32,
      "metadata": {
        "id": "nbLDe592OQM_"
      },
      "outputs": [],
      "source": [
        "def time_window_rule(model, k: Vehicle):\n",
        "  return t[k] + k.z_alpha * k.time_window_sigma <= k.time_window_mu"
      ]
    },
    {
      "cell_type": "code",
      "execution_count": 33,
      "metadata": {
        "id": "HoC_fDy2OU0v"
      },
      "outputs": [],
      "source": [
        "model.time_window = pyo.Constraint(vehicles, rule=time_window_rule)"
      ]
    },
    {
      "cell_type": "markdown",
      "metadata": {
        "id": "aIhtv_VWY_zz"
      },
      "source": [
        "**Solve the Model**"
      ]
    },
    {
      "cell_type": "code",
      "execution_count": 34,
      "metadata": {
        "id": "Z9Iz3_4xL8tR"
      },
      "outputs": [],
      "source": [
        "SOLVERS = (\n",
        "  \"cbc\",\n",
        "  \"highs\",\n",
        "  \"couenne\",\n",
        "  \"bonmin\",\n",
        "  \"ipopt\",\n",
        "  \"scip\",\n",
        "  \"gcg\",\n",
        ")"
      ]
    },
    {
      "cell_type": "code",
      "execution_count": 35,
      "metadata": {
        "id": "6Z4nMyRBDyPr"
      },
      "outputs": [],
      "source": [
        "solver_name = SOLVERS[5]"
      ]
    },
    {
      "cell_type": "code",
      "execution_count": 36,
      "metadata": {
        "id": "19HnsdBw5juz"
      },
      "outputs": [],
      "source": [
        "# solver = pyo.SolverFactory(\"glpk\")  # linear\n",
        "solver = pyo.SolverFactory(\n",
        "  solver_name + \"nl\",\n",
        "  executable=modules.find(solver_name),\n",
        "  solve_io=\"nl\",\n",
        ")"
      ]
    },
    {
      "cell_type": "code",
      "execution_count": 37,
      "metadata": {
        "id": "pXIHMmUIZYuW"
      },
      "outputs": [],
      "source": [
        "cost_values, decay_values = [], []\n",
        "for w1, w2 in weights:\n",
        "  if hasattr(model, \"obj\"):\n",
        "    model.del_component(model.obj)\n",
        "\n",
        "  model.obj = pyo.Objective(\n",
        "    rule=lambda model: combined_objective_func(model, w1, w2),\n",
        "    sense=pyo.minimize,\n",
        "  )\n",
        "  solver.solve(model)\n",
        "\n",
        "  cost_values.append(pyo.value(cost_objective_func(model)))\n",
        "  decay_values.append(pyo.value(decay_objective_func(model)))"
      ]
    },
    {
      "cell_type": "code",
      "execution_count": 38,
      "metadata": {
        "colab": {
          "base_uri": "https://localhost:8080/",
          "height": 564
        },
        "id": "P7XSxazSlCaL",
        "outputId": "8aa88fc9-7680-4b59-8e78-91533c124fdb"
      },
      "outputs": [
        {
          "output_type": "display_data",
          "data": {
            "text/plain": [
              "<Figure size 1000x600 with 1 Axes>"
            ],
            "image/png": "[encoded data removed]"
          },
          "metadata": {}
        }
      ],
      "source": [
        "plt.figure(figsize=(10, 6))\n",
        "plt.scatter(cost_values, decay_values, color=\"red\")\n",
        "for (w1, w2), cost_value, decay_value in zip(weights, cost_values, decay_values):\n",
        "    plt.annotate(\n",
        "      f\"{w1=}, {w2=}\",\n",
        "      (cost_value, decay_value),\n",
        "      xytext=(\n",
        "        cost_value,\n",
        "        decay_value + min(w2 * 40, 10),\n",
        "      ),\n",
        "    )\n",
        "\n",
        "plt.title(\"Pareto Optimization\")\n",
        "plt.ylabel(\"Decay Cost($)\")\n",
        "plt.xlabel(\"Other Costs($)\")\n",
        "plt.grid()\n",
        "plt.show()"
      ]
    },
    {
      "cell_type": "markdown",
      "metadata": {
        "id": "UJZt2VvNZZke"
      },
      "source": [
        "**Display Results**"
      ]
    },
    {
      "cell_type": "code",
      "execution_count": 39,
      "metadata": {
        "id": "iaZ7sMQchz-H"
      },
      "outputs": [],
      "source": [
        "def get_path(router: dict[Customer, Customer], *, d: Depot = depot):\n",
        "  order, next = [], router.get(depot, depot)\n",
        "  while next != depot:\n",
        "    order.append(str(next.id))\n",
        "    next = router[next]\n",
        "\n",
        "  if len(order) == 0:\n",
        "    return \"-\"\n",
        "\n",
        "  return \" -> \".join((str(depot.id), *order, str(depot.id)))"
      ]
    },
    {
      "cell_type": "code",
      "execution_count": 40,
      "metadata": {
        "colab": {
          "base_uri": "https://localhost:8080/"
        },
        "id": "WK6FwRjv5nMN",
        "outputId": "c15aa800-c3e1-4cb9-cdcc-583fdadbf92a"
      },
      "outputs": [
        {
          "output_type": "stream",
          "name": "stdout",
          "text": [
            "Vehicle 1 (3.4675C): 0 -> 1 -> 2 -> 0\n",
            "Vehicle 2 (3.4500C): 0 -> 5 -> 4 -> 3 -> 0\n",
            "Vehicle 3 (2.9525C): 0 -> 7 -> 6 -> 0\n"
          ]
        }
      ],
      "source": [
        "for k in vehicles:\n",
        "  router = {}\n",
        "  for i in nodes:\n",
        "    for j in nodes:\n",
        "      if i != j and round(pyo.value(model.x[i, j, k])) == 1:\n",
        "        router[i] = j\n",
        "\n",
        "  t_k = round(pyo.value(model.t[k]), ndigits=4)\n",
        "  print(f\"Vehicle {k.id} ({t_k:.4f}C): {get_path(router, d=depot)}\")"
      ]
    },
    {
      "cell_type": "code",
      "execution_count": 41,
      "metadata": {
        "colab": {
          "base_uri": "https://localhost:8080/"
        },
        "id": "NRLY4-EO90J9",
        "outputId": "6b14938d-51b5-4efe-8925-88d3ed50abdf"
      },
      "outputs": [
        {
          "output_type": "stream",
          "name": "stdout",
          "text": [
            "Total Costs: 861.6529$\n"
          ]
        }
      ],
      "source": [
        "print(f\"Total Costs: {round(pyo.value(cost_objective_func(model)), ndigits=4)}$\")"
      ]
    },
    {
      "cell_type": "code",
      "execution_count": 42,
      "metadata": {
        "colab": {
          "base_uri": "https://localhost:8080/"
        },
        "id": "v4PgWlkcUs9S",
        "outputId": "84a467d4-dbb0-421d-dc85-2fe88260846e"
      },
      "outputs": [
        {
          "output_type": "stream",
          "name": "stdout",
          "text": [
            "Product 1:\n",
            "Vehicle 1: 85.0 %\n",
            "Vehicle 2: 85.0 %\n",
            "Vehicle 3: 80.0 %\n",
            "\n",
            "Product 2:\n",
            "Vehicle 1: 85.0 %\n",
            "Vehicle 2: 85.0 %\n",
            "Vehicle 3: 100.0 %\n",
            "\n"
          ]
        }
      ],
      "source": [
        "for p in products:\n",
        "  print(f\"Product {p.id}:\")\n",
        "  for k in vehicles:\n",
        "    percent = pyo.value(decay[p, k]) * 100\n",
        "    print(f\"Vehicle {k.id}:\", round(100 - percent, 2), \"%\")\n",
        "\n",
        "  print()"
      ]
    }
  ],
  "metadata": {
    "colab": {
      "provenance": [],
      "authorship_tag": "ABX9TyMaByGybRFVDxyKHp6VvOVm",
      "include_colab_link": true
    },
    "kernelspec": {
      "display_name": "Python 3",
      "name": "python3"
    },
    "language_info": {
      "name": "python"
    }
  },
  "nbformat": 4,
  "nbformat_minor": 0
}