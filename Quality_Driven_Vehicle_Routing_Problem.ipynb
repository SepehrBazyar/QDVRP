{
  "nbformat": 4,
  "nbformat_minor": 0,
  "metadata": {
    "colab": {
      "provenance": [],
      "authorship_tag": "ABX9TyM5ewaJM5zDDDvL5U3kpROW",
      "include_colab_link": true
    },
    "kernelspec": {
      "name": "python3",
      "display_name": "Python 3"
    },
    "language_info": {
      "name": "python"
    }
  },
  "cells": [
    {
      "cell_type": "markdown",
      "metadata": {
        "id": "view-in-github",
        "colab_type": "text"
      },
      "source": [
        "<a href=\"https://colab.research.google.com/github/SepehrBazyar/QDVRP/blob/master/Quality_Driven_Vehicle_Routing_Problem.ipynb\" target=\"_parent\"><img src=\"https://colab.research.google.com/assets/colab-badge.svg\" alt=\"Open In Colab\"/></a>"
      ]
    },
    {
      "cell_type": "markdown",
      "source": [
        "**Install Dependencies**"
      ],
      "metadata": {
        "id": "fH8v3hNjLCdq"
      }
    },
    {
      "cell_type": "code",
      "source": [
        "!apt-get install -y -qq glpk-utils coinor-cbc"
      ],
      "metadata": {
        "id": "y8fgBJHNkVBa"
      },
      "execution_count": 1248,
      "outputs": []
    },
    {
      "cell_type": "code",
      "source": [
        "!pip install gurobipy pyomo amplpy matplotlib"
      ],
      "metadata": {
        "colab": {
          "base_uri": "https://localhost:8080/"
        },
        "id": "O9XwI4kHNJAo",
        "outputId": "5223ff6a-40c6-4796-a038-fd541d1334e7"
      },
      "execution_count": 1249,
      "outputs": [
        {
          "output_type": "stream",
          "name": "stdout",
          "text": [
            "Requirement already satisfied: gurobipy in /usr/local/lib/python3.10/dist-packages (12.0.0)\n",
            "Requirement already satisfied: pyomo in /usr/local/lib/python3.10/dist-packages (6.8.2)\n",
            "Requirement already satisfied: amplpy in /usr/local/lib/python3.10/dist-packages (0.14.0)\n",
            "Requirement already satisfied: matplotlib in /usr/local/lib/python3.10/dist-packages (3.8.0)\n",
            "Requirement already satisfied: ply in /usr/local/lib/python3.10/dist-packages (from pyomo) (3.11)\n",
            "Requirement already satisfied: ampltools>=0.7.5 in /usr/local/lib/python3.10/dist-packages (from amplpy) (0.7.5)\n",
            "Requirement already satisfied: contourpy>=1.0.1 in /usr/local/lib/python3.10/dist-packages (from matplotlib) (1.3.1)\n",
            "Requirement already satisfied: cycler>=0.10 in /usr/local/lib/python3.10/dist-packages (from matplotlib) (0.12.1)\n",
            "Requirement already satisfied: fonttools>=4.22.0 in /usr/local/lib/python3.10/dist-packages (from matplotlib) (4.55.3)\n",
            "Requirement already satisfied: kiwisolver>=1.0.1 in /usr/local/lib/python3.10/dist-packages (from matplotlib) (1.4.7)\n",
            "Requirement already satisfied: numpy<2,>=1.21 in /usr/local/lib/python3.10/dist-packages (from matplotlib) (1.26.4)\n",
            "Requirement already satisfied: packaging>=20.0 in /usr/local/lib/python3.10/dist-packages (from matplotlib) (24.2)\n",
            "Requirement already satisfied: pillow>=6.2.0 in /usr/local/lib/python3.10/dist-packages (from matplotlib) (11.0.0)\n",
            "Requirement already satisfied: pyparsing>=2.3.1 in /usr/local/lib/python3.10/dist-packages (from matplotlib) (3.2.0)\n",
            "Requirement already satisfied: python-dateutil>=2.7 in /usr/local/lib/python3.10/dist-packages (from matplotlib) (2.8.2)\n",
            "Requirement already satisfied: requests in /usr/local/lib/python3.10/dist-packages (from ampltools>=0.7.5->amplpy) (2.32.3)\n",
            "Requirement already satisfied: six>=1.5 in /usr/local/lib/python3.10/dist-packages (from python-dateutil>=2.7->matplotlib) (1.17.0)\n",
            "Requirement already satisfied: charset-normalizer<4,>=2 in /usr/local/lib/python3.10/dist-packages (from requests->ampltools>=0.7.5->amplpy) (3.4.0)\n",
            "Requirement already satisfied: idna<4,>=2.5 in /usr/local/lib/python3.10/dist-packages (from requests->ampltools>=0.7.5->amplpy) (3.10)\n",
            "Requirement already satisfied: urllib3<3,>=1.21.1 in /usr/local/lib/python3.10/dist-packages (from requests->ampltools>=0.7.5->amplpy) (2.2.3)\n",
            "Requirement already satisfied: certifi>=2017.4.17 in /usr/local/lib/python3.10/dist-packages (from requests->ampltools>=0.7.5->amplpy) (2024.12.14)\n"
          ]
        }
      ]
    },
    {
      "cell_type": "code",
      "source": [
        "!python3 -m amplpy.modules install coin highs scip gcg -q"
      ],
      "metadata": {
        "id": "R6ZreHltIpa6"
      },
      "execution_count": 1250,
      "outputs": []
    },
    {
      "cell_type": "markdown",
      "source": [
        "**Import Libraries**"
      ],
      "metadata": {
        "id": "ZtqG7kDYL07_"
      }
    },
    {
      "cell_type": "code",
      "source": [
        "import math\n",
        "import random\n",
        "import warnings\n",
        "from abc import ABC\n",
        "from dataclasses import dataclass, field\n",
        "\n",
        "import pyomo.environ as pyo\n",
        "import matplotlib.pyplot as plt\n",
        "from amplpy import modules"
      ],
      "metadata": {
        "id": "dnEfgWIh1tSt"
      },
      "execution_count": 1251,
      "outputs": []
    },
    {
      "cell_type": "code",
      "source": [
        "warnings.filterwarnings(action=\"ignore\")"
      ],
      "metadata": {
        "id": "CJddoFJIqgeM"
      },
      "execution_count": 1252,
      "outputs": []
    },
    {
      "cell_type": "markdown",
      "source": [
        "**Define Model**"
      ],
      "metadata": {
        "id": "bQJxRvXVL8sO"
      }
    },
    {
      "cell_type": "code",
      "source": [
        "model = pyo.ConcreteModel()"
      ],
      "metadata": {
        "id": "QFd5JJCR4_Vk"
      },
      "execution_count": 1253,
      "outputs": []
    },
    {
      "cell_type": "markdown",
      "source": [
        "**Parameters**"
      ],
      "metadata": {
        "id": "cb038jDLL_jU"
      }
    },
    {
      "cell_type": "code",
      "source": [
        "@dataclass(unsafe_hash=True)\n",
        "class Base(ABC):\n",
        "  id: int"
      ],
      "metadata": {
        "id": "6hKD1Ka2syEs"
      },
      "execution_count": 1254,
      "outputs": []
    },
    {
      "cell_type": "code",
      "source": [
        "@dataclass(unsafe_hash=True)\n",
        "class Depot(Base):\n",
        "  pass"
      ],
      "metadata": {
        "id": "80b9EIy-63Zw"
      },
      "execution_count": 1255,
      "outputs": []
    },
    {
      "cell_type": "code",
      "source": [
        "@dataclass(unsafe_hash=True)\n",
        "class Product(Base):\n",
        "  beta: float\n",
        "  quality: float\n",
        "  temperature: int"
      ],
      "metadata": {
        "id": "U779lN8qoX58"
      },
      "execution_count": 1256,
      "outputs": []
    },
    {
      "cell_type": "code",
      "source": [
        "@dataclass(unsafe_hash=True)\n",
        "class Vehicle(Base):\n",
        "  capacity: int\n",
        "  time_window: int\n",
        "\n",
        "  # Stochastics\n",
        "  alpha_mu: float\n",
        "  alpha_sigma: float\n",
        "\n",
        "  salary_mu: float\n",
        "  salary_sigma: float\n",
        "\n",
        "  increase_rate: float = 0.005  # degrees per minute\n",
        "  speed_rate: float = 1.5\n",
        "\n",
        "  _salary: float = field(\n",
        "    init=False,\n",
        "    hash=False,\n",
        "    default=None,\n",
        "  )\n",
        "\n",
        "  @property\n",
        "  def salary(self):\n",
        "    if self._salary is None:\n",
        "      self._salary = random.gauss(\n",
        "        mu=self.salary_mu,\n",
        "        sigma=self.salary_sigma,\n",
        "      )\n",
        "\n",
        "    return self._salary"
      ],
      "metadata": {
        "id": "3pPvy_agsIrD"
      },
      "execution_count": 1257,
      "outputs": []
    },
    {
      "cell_type": "code",
      "source": [
        "@dataclass(unsafe_hash=True)\n",
        "class Customer(Base):\n",
        "  unload_rate: float = 0.5  # in minutes\n",
        "\n",
        "  total_demand: int = field(\n",
        "    init=False,\n",
        "    hash=False,\n",
        "    default=0,\n",
        "  )\n",
        "\n",
        "  @property\n",
        "  def service_time(self):\n",
        "    return self.unload_rate * self.total_demand"
      ],
      "metadata": {
        "id": "yFuG7UrFyo99"
      },
      "execution_count": 1258,
      "outputs": []
    },
    {
      "cell_type": "code",
      "source": [
        "temperature = 25\n",
        "\n",
        "depot = Depot(id=0)\n",
        "customers = (\n",
        "  c1 := Customer(id=1),\n",
        "  c2 := Customer(id=2),\n",
        "  c3 := Customer(id=3),\n",
        "  c4 := Customer(id=4),\n",
        "  c5 := Customer(id=5),\n",
        "  c6 := Customer(id=6),\n",
        "  c7 := Customer(id=7),\n",
        ")\n",
        "nodes = depot, *customers\n",
        "\n",
        "products = (\n",
        "  p1 := Product(id=1, beta=0.1, quality=0.7, temperature=5),\n",
        "  p2 := Product(id=2, beta=0.3, quality=0.85, temperature=3),\n",
        ")\n",
        "\n",
        "vehicles = (\n",
        "  v1 := Vehicle(\n",
        "    id=1,\n",
        "    capacity=30,\n",
        "    salary_mu=1.5,\n",
        "    salary_sigma=0.1,\n",
        "    alpha_mu=4.0,\n",
        "    alpha_sigma=1.0,\n",
        "    time_window=100,\n",
        "  ),\n",
        "  v2 := Vehicle(\n",
        "    id=2,\n",
        "    capacity=25,\n",
        "    salary_mu=2.5,\n",
        "    salary_sigma=0.15,\n",
        "    alpha_mu=5.0,\n",
        "    alpha_sigma=0.5,\n",
        "    time_window=150,\n",
        "  ),\n",
        "  v3 := Vehicle(\n",
        "    id=3,\n",
        "    capacity=20,\n",
        "    salary_mu=1.8,\n",
        "    salary_sigma=0.12,\n",
        "    alpha_mu=2.0,\n",
        "    alpha_sigma=0.2,\n",
        "    time_window=120,\n",
        "  ),\n",
        ")\n",
        "\n",
        "demands = {\n",
        "  (p1, c1): 3, (p1, c2): 5, (p1, c3): 2, (p1, c4): 7, (p1, c5): 4, (p1, c6): 6, (p1, c7): 8,\n",
        "  (p2, c1): 2, (p2, c2): 3, (p2, c3): 1, (p2, c4): 2, (p2, c5): 4, (p2, c6): 2, (p2, c7): 3,\n",
        "}\n",
        "for (_, customer), demand in demands.items():\n",
        "  customer.total_demand += demand\n",
        "\n",
        "distances = {\n",
        "  (depot, c1): 10,\n",
        "  (depot, c2): 15,\n",
        "  (depot, c3): 20,\n",
        "  (depot, c4): 25,\n",
        "  (depot, c5): 30,\n",
        "  (depot, c6): 22,\n",
        "  (depot, c7): 27,\n",
        "  (c1, c2): 12, (c1, c3): 18, (c1, c4): 22, (c1, c5): 28, (c1, c6): 16, (c1, c7): 21,\n",
        "  (c2, c3): 14, (c2, c4): 20, (c2, c5): 24, (c2, c6): 18, (c2, c7): 26,\n",
        "  (c3, c4): 16, (c3, c5): 21, (c3, c6): 24, (c3, c7): 30,\n",
        "  (c4, c5): 12, (c4, c6): 15, (c4, c7): 19,\n",
        "  (c5, c6): 19, (c5, c7): 17,\n",
        "  (c6, c7): 14,\n",
        "}\n",
        "distances.update({(j, i): d for (i, j), d in distances.items()})"
      ],
      "metadata": {
        "id": "o4qS-PWV5ARE"
      },
      "execution_count": 1259,
      "outputs": []
    },
    {
      "cell_type": "markdown",
      "source": [
        "**Decision Varibales**"
      ],
      "metadata": {
        "id": "u5t66RciP2r8"
      }
    },
    {
      "cell_type": "code",
      "source": [
        "model.x = pyo.Var(nodes, nodes, vehicles, domain=pyo.Binary)\n",
        "model.u = pyo.Var(customers, domain=pyo.NonNegativeReals)\n",
        "model.t = pyo.Var(vehicles, domain=pyo.Reals)"
      ],
      "metadata": {
        "id": "5Wbn7qp_5EK3"
      },
      "execution_count": 1260,
      "outputs": []
    },
    {
      "cell_type": "code",
      "source": [
        "v = {(j, k): sum(model.x[i, j, k] for i in nodes if i != j) for j in customers for k in vehicles}\n",
        "q = {(p, k): sum(demands.get((p, j), 0) * v[j, k] for j in customers) for p in products for k in vehicles}\n",
        "t = {\n",
        "  k: (\n",
        "    sum(k.speed_rate * distances[i, j] * model.x[i, j, k] for i in nodes for j in nodes if i != j)\n",
        "    +\n",
        "    sum(j.service_time * v[j, k] for j in customers)\n",
        "  ) for k in vehicles\n",
        "}\n",
        "d = {k: sum(j.service_time * k.increase_rate * v[j, k] for j in customers) for k in vehicles}"
      ],
      "metadata": {
        "id": "PpnzArE18XDg"
      },
      "execution_count": 1261,
      "outputs": []
    },
    {
      "cell_type": "code",
      "source": [
        "decay = {(p, k): p.beta * abs((model.t[k] + d[k]) - p.temperature) for p in products for k in vehicles}"
      ],
      "metadata": {
        "id": "EivBqghnSitp"
      },
      "execution_count": 1262,
      "outputs": []
    },
    {
      "cell_type": "markdown",
      "source": [
        "**Objective Function**\n",
        "\n",
        "Minimize the Total Distance Traveled & Costs\n",
        "\n",
        "Maximize the Total Quality of Products in Vehicles"
      ],
      "metadata": {
        "id": "NDMTA_SiTKot"
      }
    },
    {
      "cell_type": "code",
      "source": [
        "delta = {k: abs(temperature - model.t[k]) for k in vehicles}"
      ],
      "metadata": {
        "id": "UmS76z6rqXac"
      },
      "execution_count": 1263,
      "outputs": []
    },
    {
      "cell_type": "code",
      "source": [
        "def cost_objective_func(model):\n",
        "  distance_cost = sum(\n",
        "    distances[i, j] * model.x[i, j, k] * 1  # per unit\n",
        "    for i in nodes for j in nodes for k in vehicles if i != j\n",
        "  )\n",
        "  salary_cost = sum(k.salary * t[k] for k in vehicles)\n",
        "  cooling_cost = sum(\n",
        "    k.alpha_mu * delta[k] - pyo.sqrt(k.alpha_sigma * delta[k] ** 2)\n",
        "    for k in vehicles\n",
        "  )\n",
        "  return distance_cost + salary_cost + cooling_cost"
      ],
      "metadata": {
        "id": "UuUn5Qq-5H1o"
      },
      "execution_count": 1264,
      "outputs": []
    },
    {
      "cell_type": "code",
      "source": [
        "def decay_objective_func(model):\n",
        "  return sum(100 * decay[p, k] for p in products for k in vehicles)"
      ],
      "metadata": {
        "id": "Ou8MVsFGTmu-"
      },
      "execution_count": 1265,
      "outputs": []
    },
    {
      "cell_type": "code",
      "source": [
        "def combined_objective_func(model, w1, w2):\n",
        "  total_cost = cost_objective_func(model)\n",
        "  total_decay = decay_objective_func(model)\n",
        "  return w1 * total_cost + w2 * total_decay"
      ],
      "metadata": {
        "id": "v45XDg4uT61x"
      },
      "execution_count": 1266,
      "outputs": []
    },
    {
      "cell_type": "code",
      "source": [
        "step = 2\n",
        "weights = [(w1 := i / 10, round(1 - w1, 1)) for i in range(1, 10, step)]"
      ],
      "metadata": {
        "id": "BTb7i5qMiZzF"
      },
      "execution_count": 1267,
      "outputs": []
    },
    {
      "cell_type": "markdown",
      "source": [
        "**Constraints**"
      ],
      "metadata": {
        "id": "n984RpptTpXo"
      }
    },
    {
      "cell_type": "markdown",
      "source": [
        "Each Customer Visited Exactly Once by Exactly One Vehicle"
      ],
      "metadata": {
        "id": "o4W30crTUpxg"
      }
    },
    {
      "cell_type": "code",
      "source": [
        "def visit_once_rule(model, j: Customer):\n",
        "  has_demand = 1 if j.total_demand > 0 else 0\n",
        "  return sum(v[j, k] for k in vehicles) == has_demand"
      ],
      "metadata": {
        "id": "4z3jQWb25O1u"
      },
      "execution_count": 1268,
      "outputs": []
    },
    {
      "cell_type": "code",
      "source": [
        "model.visit_once = pyo.Constraint(customers, rule=visit_once_rule)"
      ],
      "metadata": {
        "id": "8t9L8JlaUzvo"
      },
      "execution_count": 1269,
      "outputs": []
    },
    {
      "cell_type": "markdown",
      "source": [
        "Flow Conservation\n",
        "\n",
        "If a Vehicle Enters a Node, It Must Leave It."
      ],
      "metadata": {
        "id": "-TArCMnzVjwA"
      }
    },
    {
      "cell_type": "code",
      "source": [
        "def flow_conservation_rule(model, j: Customer | Depot, k: Vehicle):\n",
        "    come_in = sum(model.x[i, j, k] for i in nodes if i != j)\n",
        "    outside = sum(model.x[j, i, k] for i in nodes if i != j)\n",
        "    return come_in == outside"
      ],
      "metadata": {
        "id": "OkN3_MZM5WjP"
      },
      "execution_count": 1270,
      "outputs": []
    },
    {
      "cell_type": "code",
      "source": [
        "model.flow_conservation = pyo.Constraint(nodes, vehicles, rule=flow_conservation_rule)"
      ],
      "metadata": {
        "id": "veka0BnGV-wW"
      },
      "execution_count": 1271,
      "outputs": []
    },
    {
      "cell_type": "markdown",
      "source": [
        "Start & End at The Depot For Each Vehicle"
      ],
      "metadata": {
        "id": "DhwDO3-OWXTX"
      }
    },
    {
      "cell_type": "code",
      "source": [
        "def start_depot_rule(model, k: Vehicle):\n",
        "    return sum(model.x[depot, i, k] for i in customers) <= 1\n",
        "\n",
        "\n",
        "def end_depot_rule(model, k: Vehicle):\n",
        "    return sum(model.x[i, depot, k] for i in customers) <= 1"
      ],
      "metadata": {
        "id": "cmR9LNeV5Zbk"
      },
      "execution_count": 1272,
      "outputs": []
    },
    {
      "cell_type": "code",
      "source": [
        "model.start_depot = pyo.Constraint(vehicles, rule=start_depot_rule)\n",
        "model.end_depot = pyo.Constraint(vehicles, rule=end_depot_rule)"
      ],
      "metadata": {
        "id": "4wOnfdSbWg-O"
      },
      "execution_count": 1273,
      "outputs": []
    },
    {
      "cell_type": "markdown",
      "source": [
        "Vehicle Capacity Constraints"
      ],
      "metadata": {
        "id": "umKfxNWKW9Ne"
      }
    },
    {
      "cell_type": "code",
      "source": [
        "def capacity_rule(model, k: Vehicle):\n",
        "    return sum(q[p, k] for p in products) <= k.capacity"
      ],
      "metadata": {
        "id": "9t6Sao4h5dMY"
      },
      "execution_count": 1274,
      "outputs": []
    },
    {
      "cell_type": "code",
      "source": [
        "model.capacity = pyo.Constraint(vehicles, rule=capacity_rule)"
      ],
      "metadata": {
        "id": "f5GUI4gDXIRm"
      },
      "execution_count": 1275,
      "outputs": []
    },
    {
      "cell_type": "markdown",
      "source": [
        "Subtour Elimination\n",
        "\n",
        "Miller-Tucker-Zemlin Formula"
      ],
      "metadata": {
        "id": "63llTCHTXgfP"
      }
    },
    {
      "cell_type": "code",
      "source": [
        "def subtour_elimination_rule(model, i: Customer, j: Customer, k: Vehicle):\n",
        "    if i != j and i != depot and j != depot:\n",
        "        return model.u[i] - model.u[j] + len(customers) * model.x[i, j, k] <= len(customers) - 1\n",
        "\n",
        "    return pyo.Constraint.Skip"
      ],
      "metadata": {
        "id": "co59ToMN5gTO"
      },
      "execution_count": 1276,
      "outputs": []
    },
    {
      "cell_type": "code",
      "source": [
        "model.subtour_elimination = pyo.Constraint(customers, customers, vehicles, rule=subtour_elimination_rule)"
      ],
      "metadata": {
        "id": "BvX27z1QYCGJ"
      },
      "execution_count": 1277,
      "outputs": []
    },
    {
      "cell_type": "markdown",
      "source": [
        "Quality Maintaining"
      ],
      "metadata": {
        "id": "n3kBo0rdNNeE"
      }
    },
    {
      "cell_type": "code",
      "source": [
        "def quality_maintaining_rule(model, p: Product, k: Vehicle):\n",
        "  try:\n",
        "    is_contained = q[p, k] / q[p, k]\n",
        "  except ZeroDivisionError:\n",
        "    is_contained = 0\n",
        "\n",
        "  return 1 - decay[p, k] * is_contained >= p.quality"
      ],
      "metadata": {
        "id": "lJvhwKleNRgI"
      },
      "execution_count": 1278,
      "outputs": []
    },
    {
      "cell_type": "code",
      "source": [
        "model.quality_maintaining = pyo.Constraint(products, vehicles, rule=quality_maintaining_rule)"
      ],
      "metadata": {
        "id": "B5Jf8-r6N-OH"
      },
      "execution_count": 1279,
      "outputs": []
    },
    {
      "cell_type": "markdown",
      "source": [
        "Time Window"
      ],
      "metadata": {
        "id": "ENvVYtFXOObf"
      }
    },
    {
      "cell_type": "code",
      "source": [
        "def time_window_rule(model, k: Vehicle):\n",
        "  return t[k] <= k.time_window"
      ],
      "metadata": {
        "id": "nbLDe592OQM_"
      },
      "execution_count": 1280,
      "outputs": []
    },
    {
      "cell_type": "code",
      "source": [
        "model.time_window = pyo.Constraint(vehicles, rule=time_window_rule)"
      ],
      "metadata": {
        "id": "HoC_fDy2OU0v"
      },
      "execution_count": 1281,
      "outputs": []
    },
    {
      "cell_type": "markdown",
      "source": [
        "**Solve the Model**"
      ],
      "metadata": {
        "id": "aIhtv_VWY_zz"
      }
    },
    {
      "cell_type": "code",
      "source": [
        "SOLVERS = (\n",
        "  \"cbc\",\n",
        "  \"highs\",\n",
        "  \"couenne\",\n",
        "  \"bonmin\",\n",
        "  \"ipopt\",\n",
        "  \"scip\",\n",
        "  \"gcg\",\n",
        ")"
      ],
      "metadata": {
        "id": "Z9Iz3_4xL8tR"
      },
      "execution_count": 1282,
      "outputs": []
    },
    {
      "cell_type": "code",
      "source": [
        "solver_name = SOLVERS[5]"
      ],
      "metadata": {
        "id": "6Z4nMyRBDyPr"
      },
      "execution_count": 1283,
      "outputs": []
    },
    {
      "cell_type": "code",
      "source": [
        "# solver = pyo.SolverFactory(\"glpk\")  # linear\n",
        "solver = pyo.SolverFactory(\n",
        "  solver_name + \"nl\",\n",
        "  executable=modules.find(solver_name),\n",
        "  solve_io=\"nl\",\n",
        ")"
      ],
      "metadata": {
        "id": "19HnsdBw5juz"
      },
      "execution_count": 1284,
      "outputs": []
    },
    {
      "cell_type": "code",
      "source": [
        "cost_values, decay_values = [], []\n",
        "for w1, w2 in weights:\n",
        "  if hasattr(model, \"obj\"):\n",
        "    model.del_component(model.obj)\n",
        "\n",
        "  model.obj = pyo.Objective(\n",
        "    rule=lambda model: combined_objective_func(model, w1, w2),\n",
        "    sense=pyo.minimize,\n",
        "  )\n",
        "  solver.solve(model)\n",
        "\n",
        "  cost_values.append(pyo.value(cost_objective_func(model)))\n",
        "  decay_values.append(pyo.value(decay_objective_func(model)))"
      ],
      "metadata": {
        "id": "pXIHMmUIZYuW"
      },
      "execution_count": 1285,
      "outputs": []
    },
    {
      "cell_type": "code",
      "source": [
        "plt.figure(figsize=(10, 6))\n",
        "plt.scatter(cost_values, decay_values, color=\"red\")\n",
        "for (w1, w2), cost_value, decay_value in zip(weights, cost_values, decay_values):\n",
        "    plt.annotate(f\"{w1=}, {w2=}\", (cost_value, decay_value))\n",
        "\n",
        "plt.xlabel(\"Total Cost($)\")\n",
        "plt.ylabel(\"Total Decay(%)\")\n",
        "plt.title(\"Pareto Optimization\")\n",
        "plt.grid()\n",
        "plt.show()"
      ],
      "metadata": {
        "colab": {
          "base_uri": "https://localhost:8080/",
          "height": 564
        },
        "id": "P7XSxazSlCaL",
        "outputId": "46075ea9-b982-46b2-defb-8f6c369de113"
      },
      "execution_count": 1286,
      "outputs": [
        {
          "output_type": "display_data",
          "data": {
            "text/plain": [
              "<Figure size 1000x600 with 1 Axes>"
            ],
            "image/png": "[encoded data removed]"
          },
          "metadata": {}
        }
      ]
    },
    {
      "cell_type": "markdown",
      "source": [
        "**Display Results**"
      ],
      "metadata": {
        "id": "UJZt2VvNZZke"
      }
    },
    {
      "cell_type": "code",
      "source": [
        "def get_path(router: dict[Customer, Customer], *, d: Depot = depot):\n",
        "  order, next = [], router.get(depot, depot)\n",
        "  while next != depot:\n",
        "    order.append(str(next.id))\n",
        "    next = router[next]\n",
        "\n",
        "  if len(order) == 0:\n",
        "    return \"-\"\n",
        "\n",
        "  return \" -> \".join((str(depot.id), *order, str(depot.id)))"
      ],
      "metadata": {
        "id": "iaZ7sMQchz-H"
      },
      "execution_count": 1287,
      "outputs": []
    },
    {
      "cell_type": "code",
      "source": [
        "for k in vehicles:\n",
        "  router = {}\n",
        "  for i in nodes:\n",
        "    for j in nodes:\n",
        "      if i != j and round(pyo.value(model.x[i, j, k])) == 1:\n",
        "        router[i] = j\n",
        "\n",
        "  t_k = round(pyo.value(model.t[k]), ndigits=4)\n",
        "  print(f\"Vehicle {k.id} ({t_k:.4f}C): {get_path(router, d=depot)}\")"
      ],
      "metadata": {
        "id": "WK6FwRjv5nMN",
        "colab": {
          "base_uri": "https://localhost:8080/"
        },
        "outputId": "69126d08-a926-455c-bc21-bc16dbd0293a"
      },
      "execution_count": 1288,
      "outputs": [
        {
          "output_type": "stream",
          "name": "stdout",
          "text": [
            "Vehicle 1 (3.4600C): 0 -> 1 -> 2 -> 3 -> 0\n",
            "Vehicle 2 (3.4525C): 0 -> 6 -> 7 -> 0\n",
            "Vehicle 3 (2.9575C): 0 -> 4 -> 5 -> 0\n"
          ]
        }
      ]
    },
    {
      "cell_type": "code",
      "source": [
        "print(f\"Total Costs: {round(pyo.value(cost_objective_func(model)), ndigits=4)}$\")"
      ],
      "metadata": {
        "id": "NRLY4-EO90J9",
        "colab": {
          "base_uri": "https://localhost:8080/"
        },
        "outputId": "d4fe7a75-56ab-416e-d52a-91111e832ec2"
      },
      "execution_count": 1289,
      "outputs": [
        {
          "output_type": "stream",
          "name": "stdout",
          "text": [
            "Total Costs: 986.9555$\n"
          ]
        }
      ]
    },
    {
      "cell_type": "code",
      "source": [
        "for p in products:\n",
        "  print(f\"Product {p.id}:\")\n",
        "  for k in vehicles:\n",
        "    percent = pyo.value(decay[p, k]) * 100\n",
        "    print(f\"Vehicle {k.id}:\", round(100 - percent, 2), \"%\")\n",
        "\n",
        "  print()"
      ],
      "metadata": {
        "colab": {
          "base_uri": "https://localhost:8080/"
        },
        "id": "v4PgWlkcUs9S",
        "outputId": "2c3ac575-42c9-4a6a-c61c-19d723d03968"
      },
      "execution_count": 1290,
      "outputs": [
        {
          "output_type": "stream",
          "name": "stdout",
          "text": [
            "Product 1:\n",
            "Vehicle 1: 85.0 %\n",
            "Vehicle 2: 85.0 %\n",
            "Vehicle 3: 80.0 %\n",
            "\n",
            "Product 2:\n",
            "Vehicle 1: 85.0 %\n",
            "Vehicle 2: 85.0 %\n",
            "Vehicle 3: 100.0 %\n",
            "\n"
          ]
        }
      ]
    }
  ]
}