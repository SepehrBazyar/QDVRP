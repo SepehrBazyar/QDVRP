{
  "nbformat": 4,
  "nbformat_minor": 0,
  "metadata": {
    "colab": {
      "provenance": [],
      "authorship_tag": "ABX9TyNZBPJjQSQbX8MPnMZTSYrT",
      "include_colab_link": true
    },
    "kernelspec": {
      "name": "python3",
      "display_name": "Python 3"
    },
    "language_info": {
      "name": "python"
    }
  },
  "cells": [
    {
      "cell_type": "markdown",
      "metadata": {
        "id": "view-in-github",
        "colab_type": "text"
      },
      "source": [
        "<a href=\"https://colab.research.google.com/github/SepehrBazyar/QDVRP/blob/master/Quality_Driven_Vehicle_Routing_Problem.ipynb\" target=\"_parent\"><img src=\"https://colab.research.google.com/assets/colab-badge.svg\" alt=\"Open In Colab\"/></a>"
      ]
    },
    {
      "cell_type": "markdown",
      "source": [
        "**Install Dependencies**"
      ],
      "metadata": {
        "id": "fH8v3hNjLCdq"
      }
    },
    {
      "cell_type": "code",
      "source": [
        "!apt-get install -y -qq glpk-utils"
      ],
      "metadata": {
        "id": "y8fgBJHNkVBa"
      },
      "execution_count": 1,
      "outputs": []
    },
    {
      "cell_type": "code",
      "execution_count": 2,
      "metadata": {
        "id": "qFKOBi8oxrfW"
      },
      "outputs": [],
      "source": [
        "!pip install -q condacolab"
      ]
    },
    {
      "cell_type": "code",
      "source": [
        "import condacolab\n",
        "\n",
        "\n",
        "condacolab.install()"
      ],
      "metadata": {
        "id": "sJTDXPp9gI_P",
        "colab": {
          "base_uri": "https://localhost:8080/"
        },
        "outputId": "2f894769-bb78-407a-b330-8af09ef2faac"
      },
      "execution_count": 3,
      "outputs": [
        {
          "output_type": "stream",
          "name": "stdout",
          "text": [
            "✨🍰✨ Everything looks OK!\n"
          ]
        }
      ]
    },
    {
      "cell_type": "code",
      "source": [
        "!conda install pyomo cyipopt"
      ],
      "metadata": {
        "id": "DEbx_FrUgxiV",
        "colab": {
          "base_uri": "https://localhost:8080/"
        },
        "outputId": "44931cba-5c85-41e7-c123-e5f67ae69617"
      },
      "execution_count": 4,
      "outputs": [
        {
          "output_type": "stream",
          "name": "stdout",
          "text": [
            "Channels:\n",
            " - conda-forge\n",
            "Platform: linux-64\n",
            "Collecting package metadata (repodata.json): - \b\b\\ \b\b| \b\b/ \b\b- \b\b\\ \b\b| \b\b/ \b\b- \b\b\\ \b\b| \b\b/ \b\b- \b\b\\ \b\b| \b\b/ \b\b- \b\b\\ \b\b| \b\b/ \b\b- \b\b\\ \b\bdone\n",
            "Solving environment: / \b\b- \b\b\\ \b\b| \b\bdone\n",
            "\n",
            "\n",
            "==> WARNING: A newer version of conda exists. <==\n",
            "    current version: 23.11.0\n",
            "    latest version: 24.9.2\n",
            "\n",
            "Please update conda by running\n",
            "\n",
            "    $ conda update -n base -c conda-forge conda\n",
            "\n",
            "\n",
            "\n",
            "# All requested packages already installed.\n",
            "\n"
          ]
        }
      ]
    },
    {
      "cell_type": "markdown",
      "source": [
        "**Import Libraries**"
      ],
      "metadata": {
        "id": "ZtqG7kDYL07_"
      }
    },
    {
      "cell_type": "code",
      "source": [
        "from abc import ABC\n",
        "from dataclasses import dataclass, field\n",
        "\n",
        "import pyomo.environ as pyo"
      ],
      "metadata": {
        "id": "dnEfgWIh1tSt"
      },
      "execution_count": 5,
      "outputs": []
    },
    {
      "cell_type": "markdown",
      "source": [
        "**Define Model**"
      ],
      "metadata": {
        "id": "bQJxRvXVL8sO"
      }
    },
    {
      "cell_type": "code",
      "source": [
        "model = pyo.ConcreteModel()"
      ],
      "metadata": {
        "id": "QFd5JJCR4_Vk"
      },
      "execution_count": 6,
      "outputs": []
    },
    {
      "cell_type": "markdown",
      "source": [
        "**Parameters**"
      ],
      "metadata": {
        "id": "cb038jDLL_jU"
      }
    },
    {
      "cell_type": "code",
      "source": [
        "@dataclass(unsafe_hash=True)\n",
        "class Base(ABC):\n",
        "  id: int"
      ],
      "metadata": {
        "id": "6hKD1Ka2syEs"
      },
      "execution_count": 7,
      "outputs": []
    },
    {
      "cell_type": "code",
      "source": [
        "@dataclass(unsafe_hash=True)\n",
        "class Depot(Base):\n",
        "  pass"
      ],
      "metadata": {
        "id": "80b9EIy-63Zw"
      },
      "execution_count": 8,
      "outputs": []
    },
    {
      "cell_type": "code",
      "source": [
        "@dataclass(unsafe_hash=True)\n",
        "class Product(Base):\n",
        "  beta: float\n",
        "  quality: float\n",
        "  temperature: int"
      ],
      "metadata": {
        "id": "U779lN8qoX58"
      },
      "execution_count": 9,
      "outputs": []
    },
    {
      "cell_type": "code",
      "source": [
        "@dataclass(unsafe_hash=True)\n",
        "class Vehicle(Base):\n",
        "  capacity: int\n",
        "  salary: float\n",
        "  alpha: float\n",
        "  time_window: int\n",
        "  increase_rate: float = 0.0  # degrees per minute"
      ],
      "metadata": {
        "id": "3pPvy_agsIrD"
      },
      "execution_count": 10,
      "outputs": []
    },
    {
      "cell_type": "code",
      "source": [
        "@dataclass(unsafe_hash=True)\n",
        "class Customer(Base):\n",
        "  unload_rate: float = 0.5  # in minutes\n",
        "\n",
        "  total_demand: int = field(\n",
        "    init=False,\n",
        "    hash=False,\n",
        "    default=0,\n",
        "  )\n",
        "\n",
        "  @property\n",
        "  def service_time(self):\n",
        "    return self.unload_rate * self.total_demand"
      ],
      "metadata": {
        "id": "yFuG7UrFyo99"
      },
      "execution_count": 11,
      "outputs": []
    },
    {
      "cell_type": "code",
      "source": [
        "temperature = 25\n",
        "\n",
        "depot = Depot(id=0)\n",
        "customers = (\n",
        "  c1 := Customer(id=1),\n",
        "  c2 := Customer(id=2),\n",
        "  c3 := Customer(id=3),\n",
        "  c4 := Customer(id=4),\n",
        "  c5 := Customer(id=5),\n",
        "  c6 := Customer(id=6),\n",
        "  c7 := Customer(id=7),\n",
        ")\n",
        "nodes = depot, *customers\n",
        "\n",
        "products = (\n",
        "  p1 := Product(id=1, beta=0.01, quality=0.9, temperature=5),\n",
        "  p2 := Product(id=2, beta=0.02, quality=0.85, temperature=3),\n",
        ")\n",
        "\n",
        "vehicles = (\n",
        "  v1 := Vehicle(id=1, capacity=30, salary=1.5, alpha=5, time_window=180),\n",
        "  v2 := Vehicle(id=2, capacity=25, salary=1.8, alpha=6, time_window=160),\n",
        "  v3 := Vehicle(id=3, capacity=20, salary=2, alpha=7, time_window=150),\n",
        ")\n",
        "\n",
        "demands = {\n",
        "  (p1, c1): 3, (p1, c2): 5, (p1, c3): 2, (p1, c4): 7, (p1, c5): 4, (p1, c6): 6, (p1, c7): 8,\n",
        "  (p2, c1): 2, (p2, c2): 3, (p2, c3): 1, (p2, c4): 2, (p2, c5): 4, (p2, c6): 2, (p2, c7): 3,\n",
        "}\n",
        "for (_, customer), demand in demands.items():\n",
        "  customer.total_demand += demand\n",
        "\n",
        "distances = {\n",
        "  (depot, c1): 10,\n",
        "  (depot, c2): 15,\n",
        "  (depot, c3): 20,\n",
        "  (depot, c4): 25,\n",
        "  (depot, c5): 30,\n",
        "  (depot, c6): 22,\n",
        "  (depot, c7): 27,\n",
        "  (c1, c2): 12, (c1, c3): 18, (c1, c4): 22, (c1, c5): 28, (c1, c6): 16, (c1, c7): 21,\n",
        "  (c2, c3): 14, (c2, c4): 20, (c2, c5): 24, (c2, c6): 18, (c2, c7): 26,\n",
        "  (c3, c4): 16, (c3, c5): 21, (c3, c6): 24, (c3, c7): 30,\n",
        "  (c4, c5): 12, (c4, c6): 15, (c4, c7): 19,\n",
        "  (c5, c6): 19, (c5, c7): 17,\n",
        "  (c6, c7): 14,\n",
        "}\n",
        "distances.update({(j, i): d for (i, j), d in distances.items()})\n",
        "\n",
        "times = {\n",
        "  (depot, c1): 20,\n",
        "  (depot, c2): 25,\n",
        "  (depot, c3): 30,\n",
        "  (depot, c4): 35,\n",
        "  (depot, c5): 40,\n",
        "  (depot, c6): 45,\n",
        "  (depot, c7): 50,\n",
        "  (c1, c2): 15, (c1, c3): 20, (c1, c4): 25, (c1, c5): 30, (c1, c6): 35, (c1, c7): 40,\n",
        "  (c2, c3): 10, (c2, c4): 15, (c2, c5): 20, (c2, c6): 25, (c2, c7): 30,\n",
        "  (c3, c4): 10, (c3, c5): 15, (c3, c6): 20, (c3, c7): 25,\n",
        "  (c4, c5): 10, (c4, c6): 15, (c4, c7): 20,\n",
        "  (c5, c6): 10, (c5, c7): 15,\n",
        "  (c6, c7): 10,\n",
        "}\n",
        "times.update({(j, i): t for (i, j), t in times.items()})"
      ],
      "metadata": {
        "id": "o4qS-PWV5ARE"
      },
      "execution_count": 12,
      "outputs": []
    },
    {
      "cell_type": "markdown",
      "source": [
        "**Decision Varibales**"
      ],
      "metadata": {
        "id": "u5t66RciP2r8"
      }
    },
    {
      "cell_type": "code",
      "source": [
        "model.x = pyo.Var(nodes, nodes, vehicles, domain=pyo.Binary)\n",
        "model.u = pyo.Var(customers, domain=pyo.NonNegativeReals)\n",
        "# model.t = pyo.Var(vehicles, domain=pyo.NonNegativeReals)"
      ],
      "metadata": {
        "id": "5Wbn7qp_5EK3"
      },
      "execution_count": 13,
      "outputs": []
    },
    {
      "cell_type": "code",
      "source": [
        "v = {(j, k): sum(model.x[i, j, k] for i in nodes if i != j) for j in customers for k in vehicles}\n",
        "q = {(p, k): sum(demands.get((p, j), 0) * v[j, k] for j in customers) for p in products for k in vehicles}\n",
        "t = {\n",
        "  k: (\n",
        "    sum(times[i, j] * model.x[i, j, k] for i in nodes for j in nodes if i != j)\n",
        "    +\n",
        "    sum(j.service_time * v[j, k] for j in customers)\n",
        "  ) for k in vehicles\n",
        "}\n",
        "d = {k: sum(j.service_time * k.increase_rate * v[j, k] for j in customers) for k in vehicles}"
      ],
      "metadata": {
        "id": "PpnzArE18XDg"
      },
      "execution_count": 14,
      "outputs": []
    },
    {
      "cell_type": "markdown",
      "source": [
        "**Objective Function**\n",
        "\n",
        "Minimize the Total Distance Traveled & Costs"
      ],
      "metadata": {
        "id": "NDMTA_SiTKot"
      }
    },
    {
      "cell_type": "code",
      "source": [
        "def objective_func(model):\n",
        "  distance_cost = sum(\n",
        "    distances[i, j] * model.x[i, j, k]\n",
        "    for i in nodes for j in nodes for k in vehicles if i != j\n",
        "  )\n",
        "  # cooling_cost = sum(\n",
        "  #   k.alpha * t[k] * abs(temperature - (model.t[k] + d[k]))\n",
        "  #   for k in vehicles\n",
        "  # )\n",
        "  # salary_cost = sum(k.salary * t[k] for k in vehicles)\n",
        "  return distance_cost"
      ],
      "metadata": {
        "id": "UuUn5Qq-5H1o"
      },
      "execution_count": 15,
      "outputs": []
    },
    {
      "cell_type": "code",
      "source": [
        "model.obj = pyo.Objective(rule=objective_func, sense=pyo.minimize)"
      ],
      "metadata": {
        "id": "befFM6xk5L4U"
      },
      "execution_count": 16,
      "outputs": []
    },
    {
      "cell_type": "markdown",
      "source": [
        "**Constraints**"
      ],
      "metadata": {
        "id": "n984RpptTpXo"
      }
    },
    {
      "cell_type": "markdown",
      "source": [
        "Each Customer Visited Exactly Once by Exactly One Vehicle"
      ],
      "metadata": {
        "id": "o4W30crTUpxg"
      }
    },
    {
      "cell_type": "code",
      "source": [
        "def visit_once_rule(model, j: Customer):\n",
        "  return sum(v[j, k] for k in vehicles) == 1"
      ],
      "metadata": {
        "id": "4z3jQWb25O1u"
      },
      "execution_count": 17,
      "outputs": []
    },
    {
      "cell_type": "code",
      "source": [
        "model.visit_once = pyo.Constraint(customers, rule=visit_once_rule)"
      ],
      "metadata": {
        "id": "8t9L8JlaUzvo"
      },
      "execution_count": 18,
      "outputs": []
    },
    {
      "cell_type": "markdown",
      "source": [
        "Flow Conservation\n",
        "\n",
        "If a Vehicle Enters a Node, It Must Leave It."
      ],
      "metadata": {
        "id": "-TArCMnzVjwA"
      }
    },
    {
      "cell_type": "code",
      "source": [
        "def flow_conservation_rule(model, j: Customer | Depot, k: Vehicle):\n",
        "    come_in = sum(model.x[i, j, k] for i in nodes if i != j)\n",
        "    outside = sum(model.x[j, i, k] for i in nodes if i != j)\n",
        "    return come_in == outside"
      ],
      "metadata": {
        "id": "OkN3_MZM5WjP"
      },
      "execution_count": 19,
      "outputs": []
    },
    {
      "cell_type": "code",
      "source": [
        "model.flow_conservation = pyo.Constraint(nodes, vehicles, rule=flow_conservation_rule)"
      ],
      "metadata": {
        "id": "veka0BnGV-wW"
      },
      "execution_count": 20,
      "outputs": []
    },
    {
      "cell_type": "markdown",
      "source": [
        "Start & End at The Depot For Each Vehicle"
      ],
      "metadata": {
        "id": "DhwDO3-OWXTX"
      }
    },
    {
      "cell_type": "code",
      "source": [
        "def start_depot_rule(model, k: Vehicle):\n",
        "    return sum(model.x[depot, i, k] for i in customers) <= 1\n",
        "\n",
        "\n",
        "def end_depot_rule(model, k: Vehicle):\n",
        "    return sum(model.x[i, depot, k] for i in customers) <= 1"
      ],
      "metadata": {
        "id": "cmR9LNeV5Zbk"
      },
      "execution_count": 21,
      "outputs": []
    },
    {
      "cell_type": "code",
      "source": [
        "model.start_depot = pyo.Constraint(vehicles, rule=start_depot_rule)\n",
        "model.end_depot = pyo.Constraint(vehicles, rule=end_depot_rule)"
      ],
      "metadata": {
        "id": "4wOnfdSbWg-O"
      },
      "execution_count": 22,
      "outputs": []
    },
    {
      "cell_type": "markdown",
      "source": [
        "Vehicle Capacity Constraints"
      ],
      "metadata": {
        "id": "umKfxNWKW9Ne"
      }
    },
    {
      "cell_type": "code",
      "source": [
        "def capacity_rule(model, k: Vehicle):\n",
        "    return sum(q[p, k] for p in products) <= k.capacity"
      ],
      "metadata": {
        "id": "9t6Sao4h5dMY"
      },
      "execution_count": 23,
      "outputs": []
    },
    {
      "cell_type": "code",
      "source": [
        "model.capacity = pyo.Constraint(vehicles, rule=capacity_rule)"
      ],
      "metadata": {
        "id": "f5GUI4gDXIRm"
      },
      "execution_count": 24,
      "outputs": []
    },
    {
      "cell_type": "markdown",
      "source": [
        "Subtour Elimination\n",
        "\n",
        "Miller-Tucker-Zemlin Formula"
      ],
      "metadata": {
        "id": "63llTCHTXgfP"
      }
    },
    {
      "cell_type": "code",
      "source": [
        "def subtour_elimination_rule(model, i: Customer, j: Customer, k: Vehicle):\n",
        "    if i != j and i != depot and j != depot:\n",
        "        return model.u[i] - model.u[j] + len(customers) * model.x[i, j, k] <= len(customers) - 1\n",
        "\n",
        "    return pyo.Constraint.Skip"
      ],
      "metadata": {
        "id": "co59ToMN5gTO"
      },
      "execution_count": 25,
      "outputs": []
    },
    {
      "cell_type": "code",
      "source": [
        "model.subtour_elimination = pyo.Constraint(customers, customers, vehicles, rule=subtour_elimination_rule)"
      ],
      "metadata": {
        "id": "BvX27z1QYCGJ"
      },
      "execution_count": 26,
      "outputs": []
    },
    {
      "cell_type": "markdown",
      "source": [
        "Quality Maintaining"
      ],
      "metadata": {
        "id": "n3kBo0rdNNeE"
      }
    },
    {
      "cell_type": "code",
      "source": [
        "def quality_maintaining_rule(model, p: Product, k: Vehicle):\n",
        "  return 1 - sum(p.beta * abs((model.t[k] + d[k]) - p.temperature) * v[j, k] for j in customers) >= p.quality"
      ],
      "metadata": {
        "id": "lJvhwKleNRgI"
      },
      "execution_count": 27,
      "outputs": []
    },
    {
      "cell_type": "code",
      "source": [
        "# model.quality_maintaining = pyo.Constraint(products, vehicles, rule=quality_maintaining_rule)"
      ],
      "metadata": {
        "id": "B5Jf8-r6N-OH"
      },
      "execution_count": 28,
      "outputs": []
    },
    {
      "cell_type": "markdown",
      "source": [
        "Time Window"
      ],
      "metadata": {
        "id": "ENvVYtFXOObf"
      }
    },
    {
      "cell_type": "code",
      "source": [
        "def time_window_rule(model, k: Vehicle):\n",
        "  return t[k] <= k.time_window"
      ],
      "metadata": {
        "id": "nbLDe592OQM_"
      },
      "execution_count": 29,
      "outputs": []
    },
    {
      "cell_type": "code",
      "source": [
        "# model.time_window = pyo.Constraint(vehicles, rule=time_window_rule)"
      ],
      "metadata": {
        "id": "HoC_fDy2OU0v"
      },
      "execution_count": 30,
      "outputs": []
    },
    {
      "cell_type": "markdown",
      "source": [
        "**Solve the Model**"
      ],
      "metadata": {
        "id": "aIhtv_VWY_zz"
      }
    },
    {
      "cell_type": "code",
      "source": [
        "solver_name = \"glpk\""
      ],
      "metadata": {
        "id": "kZV0vieKnZB8"
      },
      "execution_count": 31,
      "outputs": []
    },
    {
      "cell_type": "code",
      "source": [
        "solver = pyo.SolverFactory(solver_name)"
      ],
      "metadata": {
        "id": "19HnsdBw5juz"
      },
      "execution_count": 32,
      "outputs": []
    },
    {
      "cell_type": "code",
      "source": [
        "solver.solve(model)"
      ],
      "metadata": {
        "id": "pXIHMmUIZYuW",
        "colab": {
          "base_uri": "https://localhost:8080/"
        },
        "outputId": "2392d12e-0405-40ce-c6b6-31fea3a43acc"
      },
      "execution_count": 33,
      "outputs": [
        {
          "output_type": "execute_result",
          "data": {
            "text/plain": [
              "{'Problem': [{'Name': 'unknown', 'Lower bound': 154.0, 'Upper bound': 154.0, 'Number of objectives': 1, 'Number of constraints': 166, 'Number of variables': 175, 'Number of nonzeros': 1050, 'Sense': 'minimize'}], 'Solver': [{'Status': 'ok', 'Termination condition': 'optimal', 'Statistics': {'Branch and bound': {'Number of bounded subproblems': '4669', 'Number of created subproblems': '4669'}}, 'Error rc': 0, 'Time': 2.5587494373321533}], 'Solution': [OrderedDict([('number of solutions', 0), ('number of solutions displayed', 0)])]}"
            ]
          },
          "metadata": {},
          "execution_count": 33
        }
      ]
    },
    {
      "cell_type": "markdown",
      "source": [
        "**Display Results**"
      ],
      "metadata": {
        "id": "UJZt2VvNZZke"
      }
    },
    {
      "cell_type": "code",
      "source": [
        "def get_path(router: dict[Customer, Customer], *, d: Depot = depot):\n",
        "    order, next = [], router.get(depot, depot)\n",
        "    while next != depot:\n",
        "      order.append(str(next.id))\n",
        "      next = router[next]\n",
        "\n",
        "    if len(order) == 0:\n",
        "      return \"-\"\n",
        "\n",
        "    return \" -> \".join((str(depot.id), *order, str(depot.id)))"
      ],
      "metadata": {
        "id": "iaZ7sMQchz-H"
      },
      "execution_count": 34,
      "outputs": []
    },
    {
      "cell_type": "code",
      "source": [
        "for k in vehicles:\n",
        "    router = {}\n",
        "    for i in nodes:\n",
        "        for j in nodes:\n",
        "            if i != j and round(pyo.value(model.x[i, j, k])) == 1:\n",
        "                router[i] = j\n",
        "\n",
        "    t_k = \"-\"  # round(pyo.value(model.t[k]), ndigits=4)\n",
        "    print(f\"Vehicle {k.id} ({t_k}C): {get_path(router, d=depot)}\")"
      ],
      "metadata": {
        "id": "WK6FwRjv5nMN",
        "colab": {
          "base_uri": "https://localhost:8080/"
        },
        "outputId": "68e54b48-5218-495c-c7e2-47bfa793dd6b"
      },
      "execution_count": 35,
      "outputs": [
        {
          "output_type": "stream",
          "name": "stdout",
          "text": [
            "Vehicle 1 (-C): 0 -> 3 -> 4 -> 5 -> 2 -> 0\n",
            "Vehicle 2 (-C): 0 -> 6 -> 7 -> 1 -> 0\n",
            "Vehicle 3 (-C): -\n"
          ]
        }
      ]
    }
  ]
}